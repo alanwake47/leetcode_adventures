{
 "cells": [
  {
   "cell_type": "code",
   "execution_count": null,
   "metadata": {},
   "outputs": [],
   "source": [
    "#Use a python function to determine if an anagram of a word, sentence, or phrase (as defined in a python string) is correct.\n",
    "\n",
    "def anagram(given_text, given_anagram):\n",
    "    \"\"\"\n",
    "    Given a string of text called given_text, determine if it is an anagram of another string,\n",
    "    given_anagram\n",
    "    Each string will contain only letters  and whitespace. No punctuation.\n",
    "    If the two strings are anagrams, return True, otherwise return False.\n",
    "    \"\"\"\n",
    "    \n",
    "    given_text = given_text.lower()\n",
    "    given_anagram = given_anagram.lower()\n",
    "    given_text = given_text.replace(\" \", \"\")\n",
    "    given_anagram = given_anagram.replace(\" \", \"\")\n",
    "    \n",
    "    if len(given_text) != len(given_anagram):\n",
    "        return False\n",
    "    \n",
    "    hsh1 = {}\n",
    "    hsh2 = {}\n",
    "    \n",
    "    for i in range(len(given_text)):\n",
    "        if given_text[i] in hsh1:\n",
    "            hsh1[given_text[i]] += 1\n",
    "        else:\n",
    "            hsh1[given_text[i]] = 1\n",
    "        \n",
    "        if given_anagram[i] in hsh2:\n",
    "            hsh2[given_anagram[i]] += 1\n",
    "        else:\n",
    "            hsh2[given_anagram[i]] = 1\n",
    "    \n",
    "    return hsh1 == hsh2\n",
    "    \n",
    "    "
   ]
  }
 ],
 "metadata": {
  "language_info": {
   "name": "python"
  },
  "orig_nbformat": 4
 },
 "nbformat": 4,
 "nbformat_minor": 2
}
