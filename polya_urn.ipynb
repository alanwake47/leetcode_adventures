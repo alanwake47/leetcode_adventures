{
 "cells": [
  {
   "cell_type": "code",
   "execution_count": 1,
   "metadata": {},
   "outputs": [],
   "source": [
    "import random\n",
    "import numpy as np"
   ]
  },
  {
   "cell_type": "code",
   "execution_count": 35,
   "metadata": {},
   "outputs": [
    {
     "name": "stdout",
     "output_type": "stream",
     "text": [
      "[0.26323676323676326, 0.8186813186813187, 0.7812187812187812, 0.14735264735264736, 0.8831168831168831, 0.40409590409590407, 0.2742257742257742, 0.1903096903096903, 0.8741258741258742, 0.6603396603396603]\n",
      "[0.7178910544727636, 0.9922538730634682, 0.6946526736631684, 0.9660169915042479, 0.600199900049975, 0.5547226386806596, 0.8223388305847077, 0.14392803598200898, 0.30109945027486257, 0.17266366816591705]\n"
     ]
    }
   ],
   "source": [
    "#write a function that simulates Polya's urn n times starting with 1 red and 1 green ball and returns the number of red balls at the end of the simulation\n",
    "#let red be 1 and green be 0\n",
    "\n",
    "def polya_urn(drw, simul):\n",
    "    simulation_results = []\n",
    "    for j in range(simul):\n",
    "        lst = [1,0]\n",
    "        for i in range(drw):\n",
    "            random_index = random.randint(0,len(lst)-1)\n",
    "            lst.append(lst[random_index])\n",
    "            #print(lst)\n",
    "        simulation_results.append(lst.count(1)/len(lst))\n",
    "    return simulation_results\n",
    "print(polya_urn(2000,10))\n",
    "print(polya_urn(4000,10))"
   ]
  }
 ],
 "metadata": {
  "kernelspec": {
   "display_name": "Python 3.9.7 ('base')",
   "language": "python",
   "name": "python3"
  },
  "language_info": {
   "codemirror_mode": {
    "name": "ipython",
    "version": 3
   },
   "file_extension": ".py",
   "mimetype": "text/x-python",
   "name": "python",
   "nbconvert_exporter": "python",
   "pygments_lexer": "ipython3",
   "version": "3.9.7"
  },
  "orig_nbformat": 4,
  "vscode": {
   "interpreter": {
    "hash": "5e62c483ecf48ad4e1bb5f903abeb626d4ffc56eab47e05d9eff835eeb907be7"
   }
  }
 },
 "nbformat": 4,
 "nbformat_minor": 2
}
