{
 "cells": [
  {
   "cell_type": "code",
   "execution_count": 1,
   "metadata": {},
   "outputs": [],
   "source": [
    "import math as m\n",
    "import numpy as np"
   ]
  },
  {
   "cell_type": "code",
   "execution_count": 35,
   "metadata": {},
   "outputs": [
    {
     "name": "stdout",
     "output_type": "stream",
     "text": [
      "5.5\n"
     ]
    }
   ],
   "source": [
    "def my_function(N, S0, T, sigma, r, K):\n",
    "    def combos(n, i):\n",
    "        return m.factorial(n) / (m.factorial(i) * m.factorial(n - i))\n",
    "    \n",
    "    c = 0.0\n",
    "    dt = T / N\n",
    "    u = np.exp(sigma * np.sqrt(dt))\n",
    "    d = np.exp(-sigma * np.sqrt(dt))\n",
    "    p = (np.exp(r * dt) - d) / (u - d)\n",
    "    \n",
    "    for i in range(N+1):\n",
    "        n_p = combos(N, i)* p**i * (1 - p)**(N - i)\n",
    "        ST = S0 * u**i * d**(N - i)\n",
    "        \n",
    "        c += n_p * max(ST - K, 0)\n",
    "    return round(c , 1)\n",
    "\n",
    "print(my_function(2,50.0,0.5,0.4,0.05,51.0))\n",
    "    "
   ]
  }
 ],
 "metadata": {
  "kernelspec": {
   "display_name": "Python 3.9.7 ('base')",
   "language": "python",
   "name": "python3"
  },
  "language_info": {
   "codemirror_mode": {
    "name": "ipython",
    "version": 3
   },
   "file_extension": ".py",
   "mimetype": "text/x-python",
   "name": "python",
   "nbconvert_exporter": "python",
   "pygments_lexer": "ipython3",
   "version": "3.9.7"
  },
  "orig_nbformat": 4,
  "vscode": {
   "interpreter": {
    "hash": "5e62c483ecf48ad4e1bb5f903abeb626d4ffc56eab47e05d9eff835eeb907be7"
   }
  }
 },
 "nbformat": 4,
 "nbformat_minor": 2
}
