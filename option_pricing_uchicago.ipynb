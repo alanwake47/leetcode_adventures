{
 "cells": [
  {
   "cell_type": "code",
   "execution_count": 139,
   "metadata": {},
   "outputs": [
    {
     "data": {
      "image/png": "[encoded data removed]",
      "text/plain": [
       "<Figure size 432x288 with 1 Axes>"
      ]
     },
     "metadata": {
      "needs_background": "light"
     },
     "output_type": "display_data"
    }
   ],
   "source": [
    "from cmath import log\n",
    "import numpy as np\n",
    "import matplotlib.pyplot as plt\n",
    "from sympy import ln\n",
    "\n",
    "\n",
    "def contract(st,q1):\n",
    "    return ((ln(10000/st**2))*q1)\n",
    "\n",
    "c2 = np.vectorize(contract)\n",
    "\n",
    "def forward(st,q2):\n",
    "    return (st-100)*q2\n",
    "\n",
    "def bond(st,q3):\n",
    "    return (0*st+0.1*q3)\n",
    "\n",
    "st = np.linspace(1, 200, 100)\n",
    "\n",
    "#plt.plot(x, c2(x,2), label='Contract')\n",
    "#plt.plot(x, forward(x,2), label='Forward')\n",
    "plt.plot(st, +c2(st,50)+forward(st,1), label='Bond')\n",
    "plt.grid()\n",
    "\n"
   ]
  },
  {
   "cell_type": "code",
   "execution_count": 128,
   "metadata": {},
   "outputs": [],
   "source": [
    "us_biden = 0.83\n",
    "us_trump = 0.17\n",
    "\n",
    "az_biden = 0.8\n",
    "az_trump = 0.2\n",
    "\n",
    "ga_biden = 0.56\n",
    "ga_trump = 0.44\n",
    "\n",
    "pa_biden = 0.84\n",
    "pa_trump = 0.16"
   ]
  },
  {
   "cell_type": "code",
   "execution_count": 135,
   "metadata": {},
   "outputs": [
    {
     "data": {
      "text/plain": [
       "4.0"
      ]
     },
     "execution_count": 135,
     "metadata": {},
     "output_type": "execute_result"
    }
   ],
   "source": [
    "assets = [us_biden, us_trump, az_biden, az_trump, ga_biden, ga_trump, pa_biden, pa_trump]\n",
    "weights = np.ones(len(assets)) / len(assets)"
   ]
  }
 ],
 "metadata": {
  "kernelspec": {
   "display_name": "Python 3.9.7 ('base')",
   "language": "python",
   "name": "python3"
  },
  "language_info": {
   "name": "python",
   "version": "3.9.7"
  },
  "orig_nbformat": 4,
  "vscode": {
   "interpreter": {
    "hash": "5e62c483ecf48ad4e1bb5f903abeb626d4ffc56eab47e05d9eff835eeb907be7"
   }
  }
 },
 "nbformat": 4,
 "nbformat_minor": 2
}
