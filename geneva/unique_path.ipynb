{
 "cells": [
  {
   "cell_type": "code",
   "execution_count": 7,
   "metadata": {},
   "outputs": [],
   "source": [
    "# An ant is at the top left corner of a m x n grid. The ant can only move either down or right at any point in time. The ant is trying to reach the bottom right corner of the grid.\n",
    "# There are rocks on some grid cells. A m x n array is given to indicate the presence of rocks. The value of the array is 0 if there is a rock on the cell, otherwise 1 for no rock.\n",
    "# given a matrix of 0s and 1s  write a function to return the number of unique paths the ant can take to reach the bottom right corner of the grid.\n",
    "\n",
    "def unique_paths(grid):\n",
    "    m = len(grid)\n",
    "    n = len(grid[0])\n",
    "    dp = [[0]*n for _ in range(m)]\n",
    "    #print(dp)\n",
    "    dp[0][0] = 1\n",
    "    #print(dp)\n",
    "    for i in range(m):\n",
    "        print(dp)\n",
    "        for j in range(n):\n",
    "            if grid[i][j] == 1:\n",
    "                if i > 0:\n",
    "                    dp[i][j] += dp[i-1][j]\n",
    "                if j > 0:\n",
    "                    dp[i][j] += dp[i][j-1]\n",
    "    return dp[m-1][n-1]\n",
    "\n"
   ]
  },
  {
   "cell_type": "code",
   "execution_count": 8,
   "metadata": {},
   "outputs": [
    {
     "name": "stdout",
     "output_type": "stream",
     "text": [
      "[[1, 0, 0], [0, 0, 0], [0, 0, 0]]\n",
      "[[1, 1, 1], [0, 0, 0], [0, 0, 0]]\n",
      "[[1, 1, 1], [1, 2, 3], [0, 0, 0]]\n"
     ]
    },
    {
     "data": {
      "text/plain": [
       "6"
      ]
     },
     "execution_count": 8,
     "metadata": {},
     "output_type": "execute_result"
    }
   ],
   "source": [
    "unique_paths([[1,1,1],[1,1,1],[1,1,1]])"
   ]
  }
 ],
 "metadata": {
  "kernelspec": {
   "display_name": "Python 3.9.7 ('base')",
   "language": "python",
   "name": "python3"
  },
  "language_info": {
   "codemirror_mode": {
    "name": "ipython",
    "version": 3
   },
   "file_extension": ".py",
   "mimetype": "text/x-python",
   "name": "python",
   "nbconvert_exporter": "python",
   "pygments_lexer": "ipython3",
   "version": "3.9.7"
  },
  "orig_nbformat": 4,
  "vscode": {
   "interpreter": {
    "hash": "5e62c483ecf48ad4e1bb5f903abeb626d4ffc56eab47e05d9eff835eeb907be7"
   }
  }
 },
 "nbformat": 4,
 "nbformat_minor": 2
}
