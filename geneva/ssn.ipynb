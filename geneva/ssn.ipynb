{
 "cells": [
  {
   "cell_type": "code",
   "execution_count": 20,
   "metadata": {},
   "outputs": [],
   "source": [
    "#Create a function that takes in a string and extract the SSN from that string. All SSN are formated\n",
    "# as XXX-XX-XXXX, where X is a number from 0-9 inclusive. The string passed will only ever contain one full SSN.\n",
    "\n",
    "import re\n",
    "\n",
    "def extract_ssn(ssn):\n",
    "    ssn = re.findall(r'\\d{3}-\\d{2}-\\d{4}', ssn)\n",
    "    return ssn[0]"
   ]
  },
  {
   "cell_type": "code",
   "execution_count": 21,
   "metadata": {},
   "outputs": [
    {
     "data": {
      "text/plain": [
       "'123-45-6789'"
      ]
     },
     "execution_count": 21,
     "metadata": {},
     "output_type": "execute_result"
    }
   ],
   "source": [
    "stng = 'My SSN is 123-45-678919283098.,we.dkjwe 213-45-6234234'\n",
    "extract_ssn(stng)"
   ]
  }
 ],
 "metadata": {
  "kernelspec": {
   "display_name": "Python 3.9.7 ('base')",
   "language": "python",
   "name": "python3"
  },
  "language_info": {
   "codemirror_mode": {
    "name": "ipython",
    "version": 3
   },
   "file_extension": ".py",
   "mimetype": "text/x-python",
   "name": "python",
   "nbconvert_exporter": "python",
   "pygments_lexer": "ipython3",
   "version": "3.9.7"
  },
  "orig_nbformat": 4,
  "vscode": {
   "interpreter": {
    "hash": "5e62c483ecf48ad4e1bb5f903abeb626d4ffc56eab47e05d9eff835eeb907be7"
   }
  }
 },
 "nbformat": 4,
 "nbformat_minor": 2
}
