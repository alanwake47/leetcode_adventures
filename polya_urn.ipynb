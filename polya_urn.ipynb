{
 "cells": [
  {
   "cell_type": "code",
   "execution_count": 49,
   "metadata": {},
   "outputs": [],
   "source": [
    "import random"
   ]
  },
  {
   "cell_type": "code",
   "execution_count": 50,
   "metadata": {},
   "outputs": [
    {
     "name": "stdout",
     "output_type": "stream",
     "text": [
      "[0.5799200799200799, 0.7322677322677322, 0.6963036963036963, 0.8316683316683317, 0.6803196803196803, 0.8041958041958042, 0.7022977022977023, 0.7782217782217782, 0.49100899100899104, 0.03596403596403597, 0.7197802197802198, 0.8736263736263736, 0.06493506493506493, 0.35614385614385613, 0.11388611388611389, 0.2722277722277722, 0.6288711288711288, 0.16683316683316685, 0.3006993006993007, 0.3011988011988012]\n"
     ]
    }
   ],
   "source": [
    "#write a function that simulates Polya's urn n times starting with 1 red and 1 green ball and returns the number of red balls at the end of the simulation\n",
    "#let red be 1 and green be 0\n",
    "\n",
    "def polya_urn(drw, simul):\n",
    "    simulation_results = []\n",
    "    for j in range(simul):\n",
    "        lst = [1,0]\n",
    "        for i in range(drw):\n",
    "            random_index = random.randint(0,len(lst)-1)\n",
    "            lst.append(lst[random_index])\n",
    "            #print(lst)\n",
    "        simulation_results.append(lst.count(1)/len(lst))\n",
    "    return simulation_results\n",
    "print(polya_urn(2000,20))\n"
   ]
  }
 ],
 "metadata": {
  "kernelspec": {
   "display_name": "Python 3.9.7 ('base')",
   "language": "python",
   "name": "python3"
  },
  "language_info": {
   "codemirror_mode": {
    "name": "ipython",
    "version": 3
   },
   "file_extension": ".py",
   "mimetype": "text/x-python",
   "name": "python",
   "nbconvert_exporter": "python",
   "pygments_lexer": "ipython3",
   "version": "3.9.7"
  },
  "orig_nbformat": 4,
  "vscode": {
   "interpreter": {
    "hash": "5e62c483ecf48ad4e1bb5f903abeb626d4ffc56eab47e05d9eff835eeb907be7"
   }
  }
 },
 "nbformat": 4,
 "nbformat_minor": 2
}
